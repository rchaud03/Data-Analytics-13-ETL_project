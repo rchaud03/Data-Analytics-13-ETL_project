{
 "cells": [
  {
   "cell_type": "code",
   "execution_count": 8,
   "metadata": {},
   "outputs": [],
   "source": [
    "# importing dependencies\n",
    "import pandas as pd\n",
    "import os\n",
    "from sqlalchemy import create_engine\n",
    "from dotenv import load_dotenv"
   ]
  },
  {
   "cell_type": "code",
   "execution_count": 9,
   "metadata": {},
   "outputs": [],
   "source": [
    "# Import dotenv values\n",
    "load_dotenv(\".env\")\n",
    "DB_USER = os.getenv(\"DB_USER\")\n",
    "DB_PASSWD = os.getenv(\"DB_PASSWD\")"
   ]
  },
  {
   "cell_type": "code",
   "execution_count": 10,
   "metadata": {},
   "outputs": [],
   "source": [
    "#importing imdb files\n",
    "imdb_ratings_path = \"resources/imdb_ratings.csv\"\n",
    "ratings_df = pd.read_csv(imdb_ratings_path)\n"
   ]
  },
  {
   "cell_type": "code",
   "execution_count": 11,
   "metadata": {},
   "outputs": [
    {
     "output_type": "execute_result",
     "data": {
      "text/plain": [
       "  imdb_title_id  us_voters_rating  non_us_voters_rating  us_voters_votes  \\\n",
       "0     tt0000009               6.4                   6.0             51.0   \n",
       "1     tt0000574               6.0                   6.2             96.0   \n",
       "2     tt0001892               6.2                   5.9             31.0   \n",
       "3     tt0002101               5.5                   4.7            207.0   \n",
       "4     tt0002130               7.0                   7.0            488.0   \n",
       "\n",
       "   non_us_voters_votes  \n",
       "0                 70.0  \n",
       "1                331.0  \n",
       "2                123.0  \n",
       "3                105.0  \n",
       "4               1166.0  "
      ],
      "text/html": "<div>\n<style scoped>\n    .dataframe tbody tr th:only-of-type {\n        vertical-align: middle;\n    }\n\n    .dataframe tbody tr th {\n        vertical-align: top;\n    }\n\n    .dataframe thead th {\n        text-align: right;\n    }\n</style>\n<table border=\"1\" class=\"dataframe\">\n  <thead>\n    <tr style=\"text-align: right;\">\n      <th></th>\n      <th>imdb_title_id</th>\n      <th>us_voters_rating</th>\n      <th>non_us_voters_rating</th>\n      <th>us_voters_votes</th>\n      <th>non_us_voters_votes</th>\n    </tr>\n  </thead>\n  <tbody>\n    <tr>\n      <th>0</th>\n      <td>tt0000009</td>\n      <td>6.4</td>\n      <td>6.0</td>\n      <td>51.0</td>\n      <td>70.0</td>\n    </tr>\n    <tr>\n      <th>1</th>\n      <td>tt0000574</td>\n      <td>6.0</td>\n      <td>6.2</td>\n      <td>96.0</td>\n      <td>331.0</td>\n    </tr>\n    <tr>\n      <th>2</th>\n      <td>tt0001892</td>\n      <td>6.2</td>\n      <td>5.9</td>\n      <td>31.0</td>\n      <td>123.0</td>\n    </tr>\n    <tr>\n      <th>3</th>\n      <td>tt0002101</td>\n      <td>5.5</td>\n      <td>4.7</td>\n      <td>207.0</td>\n      <td>105.0</td>\n    </tr>\n    <tr>\n      <th>4</th>\n      <td>tt0002130</td>\n      <td>7.0</td>\n      <td>7.0</td>\n      <td>488.0</td>\n      <td>1166.0</td>\n    </tr>\n  </tbody>\n</table>\n</div>"
     },
     "metadata": {},
     "execution_count": 11
    }
   ],
   "source": [
    "ratings_df.columns\n",
    "ratings_min = ratings_df[['imdb_title_id','us_voters_rating', 'non_us_voters_rating','us_voters_votes', 'non_us_voters_votes']]\n",
    "ratings_min.head()"
   ]
  },
  {
   "cell_type": "code",
   "execution_count": 12,
   "metadata": {},
   "outputs": [
    {
     "output_type": "execute_result",
     "data": {
      "text/plain": [
       "  imdb_title_id  us_voters_rating  non_us_voters_rating  us_voters_votes  \\\n",
       "0     tt0000009               6.4                   6.0             51.0   \n",
       "1     tt0000574               6.0                   6.2             96.0   \n",
       "2     tt0001892               6.2                   5.9             31.0   \n",
       "3     tt0002101               5.5                   4.7            207.0   \n",
       "4     tt0002130               7.0                   7.0            488.0   \n",
       "\n",
       "   non_us_voters_votes  avg_total_ratings  \n",
       "0                 70.0               6.20  \n",
       "1                331.0               6.10  \n",
       "2                123.0               6.05  \n",
       "3                105.0               5.10  \n",
       "4               1166.0               7.00  "
      ],
      "text/html": "<div>\n<style scoped>\n    .dataframe tbody tr th:only-of-type {\n        vertical-align: middle;\n    }\n\n    .dataframe tbody tr th {\n        vertical-align: top;\n    }\n\n    .dataframe thead th {\n        text-align: right;\n    }\n</style>\n<table border=\"1\" class=\"dataframe\">\n  <thead>\n    <tr style=\"text-align: right;\">\n      <th></th>\n      <th>imdb_title_id</th>\n      <th>us_voters_rating</th>\n      <th>non_us_voters_rating</th>\n      <th>us_voters_votes</th>\n      <th>non_us_voters_votes</th>\n      <th>avg_total_ratings</th>\n    </tr>\n  </thead>\n  <tbody>\n    <tr>\n      <th>0</th>\n      <td>tt0000009</td>\n      <td>6.4</td>\n      <td>6.0</td>\n      <td>51.0</td>\n      <td>70.0</td>\n      <td>6.20</td>\n    </tr>\n    <tr>\n      <th>1</th>\n      <td>tt0000574</td>\n      <td>6.0</td>\n      <td>6.2</td>\n      <td>96.0</td>\n      <td>331.0</td>\n      <td>6.10</td>\n    </tr>\n    <tr>\n      <th>2</th>\n      <td>tt0001892</td>\n      <td>6.2</td>\n      <td>5.9</td>\n      <td>31.0</td>\n      <td>123.0</td>\n      <td>6.05</td>\n    </tr>\n    <tr>\n      <th>3</th>\n      <td>tt0002101</td>\n      <td>5.5</td>\n      <td>4.7</td>\n      <td>207.0</td>\n      <td>105.0</td>\n      <td>5.10</td>\n    </tr>\n    <tr>\n      <th>4</th>\n      <td>tt0002130</td>\n      <td>7.0</td>\n      <td>7.0</td>\n      <td>488.0</td>\n      <td>1166.0</td>\n      <td>7.00</td>\n    </tr>\n  </tbody>\n</table>\n</div>"
     },
     "metadata": {},
     "execution_count": 12
    }
   ],
   "source": [
    "cols = ratings_min.loc[:,'us_voters_rating':'non_us_voters_rating']\n",
    "#ratings_min['average_total_ratings'] = cols.mean(axis=1)\n",
    "#ratings_min.loc[:,'average_total_ratings'] = cols.mean(axis=1)\n",
    "\n",
    "# v0.16.0 and later use the 'assign()' method\n",
    "ratings_min = ratings_min.assign(avg_total_ratings=ratings_min.loc[:, [\"us_voters_rating\", \"non_us_voters_rating\"]].mean(axis=1))\n",
    "ratings_min.head()"
   ]
  },
  {
   "cell_type": "code",
   "execution_count": 13,
   "metadata": {},
   "outputs": [
    {
     "output_type": "execute_result",
     "data": {
      "text/plain": [
       "  imdb_title_id  us_voters_rating  non_us_voters_rating  us_voters_votes  \\\n",
       "0     tt0000009               6.4                   6.0             51.0   \n",
       "1     tt0000574               6.0                   6.2             96.0   \n",
       "2     tt0001892               6.2                   5.9             31.0   \n",
       "3     tt0002101               5.5                   4.7            207.0   \n",
       "4     tt0002130               7.0                   7.0            488.0   \n",
       "\n",
       "   non_us_voters_votes  avg_total_ratings  average_total_votes  \n",
       "0                 70.0               6.20                 60.5  \n",
       "1                331.0               6.10                213.5  \n",
       "2                123.0               6.05                 77.0  \n",
       "3                105.0               5.10                156.0  \n",
       "4               1166.0               7.00                827.0  "
      ],
      "text/html": "<div>\n<style scoped>\n    .dataframe tbody tr th:only-of-type {\n        vertical-align: middle;\n    }\n\n    .dataframe tbody tr th {\n        vertical-align: top;\n    }\n\n    .dataframe thead th {\n        text-align: right;\n    }\n</style>\n<table border=\"1\" class=\"dataframe\">\n  <thead>\n    <tr style=\"text-align: right;\">\n      <th></th>\n      <th>imdb_title_id</th>\n      <th>us_voters_rating</th>\n      <th>non_us_voters_rating</th>\n      <th>us_voters_votes</th>\n      <th>non_us_voters_votes</th>\n      <th>avg_total_ratings</th>\n      <th>average_total_votes</th>\n    </tr>\n  </thead>\n  <tbody>\n    <tr>\n      <th>0</th>\n      <td>tt0000009</td>\n      <td>6.4</td>\n      <td>6.0</td>\n      <td>51.0</td>\n      <td>70.0</td>\n      <td>6.20</td>\n      <td>60.5</td>\n    </tr>\n    <tr>\n      <th>1</th>\n      <td>tt0000574</td>\n      <td>6.0</td>\n      <td>6.2</td>\n      <td>96.0</td>\n      <td>331.0</td>\n      <td>6.10</td>\n      <td>213.5</td>\n    </tr>\n    <tr>\n      <th>2</th>\n      <td>tt0001892</td>\n      <td>6.2</td>\n      <td>5.9</td>\n      <td>31.0</td>\n      <td>123.0</td>\n      <td>6.05</td>\n      <td>77.0</td>\n    </tr>\n    <tr>\n      <th>3</th>\n      <td>tt0002101</td>\n      <td>5.5</td>\n      <td>4.7</td>\n      <td>207.0</td>\n      <td>105.0</td>\n      <td>5.10</td>\n      <td>156.0</td>\n    </tr>\n    <tr>\n      <th>4</th>\n      <td>tt0002130</td>\n      <td>7.0</td>\n      <td>7.0</td>\n      <td>488.0</td>\n      <td>1166.0</td>\n      <td>7.00</td>\n      <td>827.0</td>\n    </tr>\n  </tbody>\n</table>\n</div>"
     },
     "metadata": {},
     "execution_count": 13
    }
   ],
   "source": [
    "col1 = ratings_min.loc[:,'us_voters_votes':'non_us_voters_votes']\n",
    "\n",
    "ratings_min['average_total_votes'] = col1.mean(axis=1)\n",
    "ratings_min.head()"
   ]
  },
  {
   "cell_type": "code",
   "execution_count": 14,
   "metadata": {},
   "outputs": [],
   "source": [
    "connection_string = f\"{DB_USER}:{DB_PASSWD}@localhost:5432/movies_db\"\n",
    "engine = create_engine(f'postgresql://{connection_string}')\n",
    "conn = engine.connect()\n",
    "\n",
    "# Insert data into database table\n",
    "ratings_min.to_sql(name='ratings', con=engine, if_exists='replace', index=False)\n",
    "\n",
    "# Close and Dispose of DB connection\n",
    "conn.close()\n",
    "engine.dispose()"
   ]
  }
 ],
 "metadata": {
  "kernelspec": {
   "name": "python385jvsc74a57bd0958c838de46e3c0be1b848b76a73694542b1e0177bd603c34cc40f06e099de3f",
   "display_name": "Python 3.8.5 64-bit ('GTDataDev': conda)"
  },
  "language_info": {
   "codemirror_mode": {
    "name": "ipython",
    "version": 3
   },
   "file_extension": ".py",
   "mimetype": "text/x-python",
   "name": "python",
   "nbconvert_exporter": "python",
   "pygments_lexer": "ipython3",
   "version": "3.8.5"
  }
 },
 "nbformat": 4,
 "nbformat_minor": 4
}