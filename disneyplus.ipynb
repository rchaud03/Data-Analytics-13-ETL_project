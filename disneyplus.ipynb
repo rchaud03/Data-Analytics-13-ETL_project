{
 "metadata": {
  "language_info": {
   "codemirror_mode": {
    "name": "ipython",
    "version": 3
   },
   "file_extension": ".py",
   "mimetype": "text/x-python",
   "name": "python",
   "nbconvert_exporter": "python",
   "pygments_lexer": "ipython3",
   "version": "3.8.5"
  },
  "orig_nbformat": 2,
  "kernelspec": {
   "name": "python385jvsc74a57bd0958c838de46e3c0be1b848b76a73694542b1e0177bd603c34cc40f06e099de3f",
   "display_name": "Python 3.8.5 64-bit ('GTDataDev': conda)"
  }
 },
 "nbformat": 4,
 "nbformat_minor": 2,
 "cells": [
  {
   "cell_type": "code",
   "execution_count": 1,
   "metadata": {},
   "outputs": [],
   "source": [
    "# Import Dependencies\n",
    "import pandas as pd\n",
    "import os\n",
    "from sqlalchemy import create_engine\n",
    "from dotenv import load_dotenv"
   ]
  },
  {
   "cell_type": "code",
   "execution_count": 2,
   "metadata": {},
   "outputs": [],
   "source": [
    "# Import dotenv values\n",
    "load_dotenv(\".env\")\n",
    "DB_USER = os.getenv(\"DB_USER\")\n",
    "DB_PASSWD = os.getenv(\"DB_PASSWD\")"
   ]
  },
  {
   "cell_type": "code",
   "execution_count": 3,
   "metadata": {},
   "outputs": [],
   "source": [
    "# Import CSV data file\n",
    "file_path = \"resources/disney_plus_shows.csv\"\n",
    "disney_plus_df = pd.read_csv(file_path)"
   ]
  },
  {
   "source": [
    "### Clean-up"
   ],
   "cell_type": "markdown",
   "metadata": {}
  },
  {
   "cell_type": "code",
   "execution_count": 4,
   "metadata": {},
   "outputs": [],
   "source": [
    "# Re-initalize dataframe with selected columns\n",
    "disney_plus_df = disney_plus_df[['imdb_id', 'title', 'plot', 'type', 'rated']]"
   ]
  },
  {
   "cell_type": "code",
   "execution_count": 5,
   "metadata": {},
   "outputs": [],
   "source": [
    "# rename columns\n",
    "disney_plus_df.rename(columns={\"imdb_id\":\"imdb_title_id\", \"rated\":\"mpaa_rating\"}, inplace=True)"
   ]
  },
  {
   "cell_type": "code",
   "execution_count": 6,
   "metadata": {},
   "outputs": [],
   "source": [
    "# Fill NaN mpaa_rating with NR\n",
    "disney_plus_df.loc[:,\"mpaa_rating\"].fillna(\"NR\", inplace=True)"
   ]
  },
  {
   "cell_type": "code",
   "execution_count": 7,
   "metadata": {},
   "outputs": [
    {
     "output_type": "execute_result",
     "data": {
      "text/plain": [
       "  imdb_title_id                                       title  \\\n",
       "0     tt0147800                  10 Things I Hate About You   \n",
       "1     tt7019028                        101 Dalmatian Street   \n",
       "2     tt0115433                              101 Dalmatians   \n",
       "3     tt0324941  101 Dalmatians 2: Patch's London Adventure   \n",
       "4     tt0211181                              102 Dalmatians   \n",
       "\n",
       "                                                plot    type mpaa_rating  \n",
       "0  A pretty, popular teenager can't go out on a d...   movie       PG-13  \n",
       "1  This series follows the lives of Delilah and D...  series          NR  \n",
       "2  An evil high-fashion designer plots to steal D...   movie           G  \n",
       "3  Being one of 101 takes its toll on Patch, who ...   movie           G  \n",
       "4  Cruella DeVil gets out of prison and goes afte...   movie           G  "
      ],
      "text/html": "<div>\n<style scoped>\n    .dataframe tbody tr th:only-of-type {\n        vertical-align: middle;\n    }\n\n    .dataframe tbody tr th {\n        vertical-align: top;\n    }\n\n    .dataframe thead th {\n        text-align: right;\n    }\n</style>\n<table border=\"1\" class=\"dataframe\">\n  <thead>\n    <tr style=\"text-align: right;\">\n      <th></th>\n      <th>imdb_title_id</th>\n      <th>title</th>\n      <th>plot</th>\n      <th>type</th>\n      <th>mpaa_rating</th>\n    </tr>\n  </thead>\n  <tbody>\n    <tr>\n      <th>0</th>\n      <td>tt0147800</td>\n      <td>10 Things I Hate About You</td>\n      <td>A pretty, popular teenager can't go out on a d...</td>\n      <td>movie</td>\n      <td>PG-13</td>\n    </tr>\n    <tr>\n      <th>1</th>\n      <td>tt7019028</td>\n      <td>101 Dalmatian Street</td>\n      <td>This series follows the lives of Delilah and D...</td>\n      <td>series</td>\n      <td>NR</td>\n    </tr>\n    <tr>\n      <th>2</th>\n      <td>tt0115433</td>\n      <td>101 Dalmatians</td>\n      <td>An evil high-fashion designer plots to steal D...</td>\n      <td>movie</td>\n      <td>G</td>\n    </tr>\n    <tr>\n      <th>3</th>\n      <td>tt0324941</td>\n      <td>101 Dalmatians 2: Patch's London Adventure</td>\n      <td>Being one of 101 takes its toll on Patch, who ...</td>\n      <td>movie</td>\n      <td>G</td>\n    </tr>\n    <tr>\n      <th>4</th>\n      <td>tt0211181</td>\n      <td>102 Dalmatians</td>\n      <td>Cruella DeVil gets out of prison and goes afte...</td>\n      <td>movie</td>\n      <td>G</td>\n    </tr>\n  </tbody>\n</table>\n</div>"
     },
     "metadata": {},
     "execution_count": 7
    }
   ],
   "source": [
    "disney_plus_df.head()"
   ]
  },
  {
   "source": [
    "### Load to Database"
   ],
   "cell_type": "markdown",
   "metadata": {}
  },
  {
   "cell_type": "code",
   "execution_count": 8,
   "metadata": {},
   "outputs": [],
   "source": [
    "# Database Connection\n",
    "connection_string = f\"{DB_USER}:{DB_PASSWD}@localhost:5432/movies_db\"\n",
    "engine = create_engine(f'postgresql://{connection_string}')\n",
    "conn = engine.connect()"
   ]
  },
  {
   "cell_type": "code",
   "execution_count": 9,
   "metadata": {},
   "outputs": [],
   "source": [
    "# Insert dataframe into database table\n",
    "disney_plus_df.to_sql(name='disney_plus', con=engine, if_exists='replace', index=False)"
   ]
  },
  {
   "cell_type": "code",
   "execution_count": null,
   "metadata": {},
   "outputs": [],
   "source": [
    "# Close and Dispose of DB connection\n",
    "conn.close()\n",
    "engine.dispose()"
   ]
  }
 ]
}